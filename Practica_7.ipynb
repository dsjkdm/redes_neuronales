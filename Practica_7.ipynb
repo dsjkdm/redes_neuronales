{
 "cells": [
  {
   "cell_type": "markdown",
   "metadata": {},
   "source": [
    "## Practica 7\n",
    "\n",
    "Implementacion de una red neuronal sencilla (dos capas) mediante el modulo Keras. El objetivo es entrenar la red neuronal para los datos de entrenamiento proporcionados y verificar el funcionamiento del algoritmo cuando se utiliza batching."
   ]
  },
  {
   "cell_type": "code",
   "execution_count": 43,
   "metadata": {},
   "outputs": [],
   "source": [
    "import matplotlib.pyplot as plt\n",
    "import numpy as np\n",
    "import keras\n",
    "%matplotlib inline"
   ]
  },
  {
   "cell_type": "code",
   "execution_count": 44,
   "metadata": {},
   "outputs": [],
   "source": [
    "# Datos de entrenamiento\n",
    "x = np.array([1, -1])\n",
    "t = np.array([2, -1])"
   ]
  },
  {
   "cell_type": "code",
   "execution_count": 45,
   "metadata": {},
   "outputs": [],
   "source": [
    "# Creacion de la red neuronal\n",
    "nn = keras.models.Sequential()"
   ]
  },
  {
   "cell_type": "code",
   "execution_count": 46,
   "metadata": {},
   "outputs": [],
   "source": [
    "# Agregar la primera capa \n",
    "nn.add(keras.layers.Dense(1, activation=lambda x: x**2, input_shape=(1,)))\n",
    "#nn.add(keras.layers.Dense(1, activation='sigmoid', input_shape=(1,)))\n",
    "\n",
    "# Agregar la segunda capa\n",
    "nn.add(keras.layers.Dense(1, activation='sigmoid'))\n",
    "#nn.add(keras.layers.Dense(1, activation=lambda x: x))"
   ]
  },
  {
   "cell_type": "code",
   "execution_count": 47,
   "metadata": {},
   "outputs": [],
   "source": [
    "# Configurar el proceso de aprendizaje de la red neuronal\n",
    "nn.compile(loss='mean_squared_error', \n",
    "           optimizer=keras.optimizers.SGD(lr=0.4), \n",
    "           metrics=['accuracy'])"
   ]
  },
  {
   "cell_type": "code",
   "execution_count": 48,
   "metadata": {},
   "outputs": [
    {
     "name": "stdout",
     "output_type": "stream",
     "text": [
      "Pesos iniciales:\n",
      "[[0.30057585]]\n",
      "[[1.4076508]]\n",
      "\n",
      "Bias iniciales:\n",
      "[0.]\n",
      "[0.]\n"
     ]
    }
   ],
   "source": [
    "# Imprimir los pesos y bias iniciales de la red\n",
    "final_weights = []\n",
    "final_bias = []\n",
    "\n",
    "for layer in nn.layers:\n",
    "    final_weights.append(layer.get_weights()[0])\n",
    "    final_bias.append(layer.get_weights()[1])\n",
    "    \n",
    "print('Pesos iniciales:')\n",
    "    \n",
    "for w in final_weights:\n",
    "    print(w)\n",
    "    \n",
    "print('\\nBias iniciales:')\n",
    "\n",
    "for b in final_bias:\n",
    "    print(b)"
   ]
  },
  {
   "cell_type": "markdown",
   "metadata": {},
   "source": [
    "### Entrenamiento de la red neuronal sin batching"
   ]
  },
  {
   "cell_type": "code",
   "execution_count": 49,
   "metadata": {},
   "outputs": [],
   "source": [
    "# Entrenar la red neuronal\n",
    "history = nn.fit(x, t, batch_size=None, epochs=1000, verbose=0)"
   ]
  },
  {
   "cell_type": "code",
   "execution_count": 50,
   "metadata": {},
   "outputs": [],
   "source": [
    "# Predecir las salidas para el vector x\n",
    "t_predicted = nn.predict(x, batch_size=None)"
   ]
  },
  {
   "cell_type": "code",
   "execution_count": 51,
   "metadata": {},
   "outputs": [
    {
     "name": "stdout",
     "output_type": "stream",
     "text": [
      "Pesos finales:\n",
      "[[1.4630548]]\n",
      "[[1.9868548]]\n",
      "\n",
      "Bias finales:\n",
      "[1.4630548]\n",
      "[-5.96884]\n"
     ]
    }
   ],
   "source": [
    "# Imprimir los pesos y bias finales de la red\n",
    "final_weights = []\n",
    "final_bias = []\n",
    "\n",
    "for layer in nn.layers:\n",
    "    final_weights.append(layer.get_weights()[0])\n",
    "    final_bias.append(layer.get_weights()[1])\n",
    "    \n",
    "print('Pesos finales:')\n",
    "    \n",
    "for w in final_weights:\n",
    "    print(w)\n",
    "    \n",
    "print('\\nBias finales:')\n",
    "\n",
    "for b in final_bias:\n",
    "    print(b)"
   ]
  },
  {
   "cell_type": "code",
   "execution_count": 52,
   "metadata": {},
   "outputs": [
    {
     "data": {
      "image/png": "[encoded data removed]",
      "text/plain": [
       "<Figure size 432x288 with 1 Axes>"
      ]
     },
     "metadata": {
      "needs_background": "light"
     },
     "output_type": "display_data"
    }
   ],
   "source": [
    "plt.figure()\n",
    "plt.scatter(x, t)\n",
    "plt.scatter(x, t_predicted, marker='+', s=500)\n",
    "plt.xlabel('x')\n",
    "plt.ylabel('t')\n",
    "plt.legend(['real', 'prediccion'])\n",
    "plt.title('Visualizacion de datos')\n",
    "plt.grid(True)\n",
    "plt.show()"
   ]
  },
  {
   "cell_type": "code",
   "execution_count": 53,
   "metadata": {},
   "outputs": [
    {
     "data": {
      "text/plain": [
       "array([[0.999984],\n",
       "       [1.      ],\n",
       "       [1.      ],\n",
       "       [1.      ]], dtype=float32)"
      ]
     },
     "execution_count": 53,
     "metadata": {},
     "output_type": "execute_result"
    }
   ],
   "source": [
    "# Prediccion para las entradas -3, 2, -6 y 7\n",
    "\n",
    "nn.predict(np.array([-3, 2, -6, 7]), batch_size=None)"
   ]
  },
  {
   "cell_type": "markdown",
   "metadata": {},
   "source": [
    "### Entrenamiento de la red neuronal con batching"
   ]
  },
  {
   "cell_type": "code",
   "execution_count": 54,
   "metadata": {},
   "outputs": [
    {
     "data": {
      "text/plain": [
       "<keras.callbacks.History at 0x7f13a12a53c8>"
      ]
     },
     "execution_count": 54,
     "metadata": {},
     "output_type": "execute_result"
    }
   ],
   "source": [
    "nn.fit(x, t, batch_size=2, epochs=1000, verbose=0)"
   ]
  },
  {
   "cell_type": "code",
   "execution_count": 55,
   "metadata": {},
   "outputs": [
    {
     "data": {
      "text/plain": [
       "array([[0.99999297],\n",
       "       [0.00126721]], dtype=float32)"
      ]
     },
     "execution_count": 55,
     "metadata": {},
     "output_type": "execute_result"
    }
   ],
   "source": [
    "t_predicted_b = nn.predict(x, batch_size=2)\n",
    "t_predicted_b"
   ]
  },
  {
   "cell_type": "code",
   "execution_count": 56,
   "metadata": {},
   "outputs": [
    {
     "data": {
      "image/png": "[encoded data removed]",
      "text/plain": [
       "<Figure size 432x288 with 1 Axes>"
      ]
     },
     "metadata": {
      "needs_background": "light"
     },
     "output_type": "display_data"
    }
   ],
   "source": [
    "plt.figure()\n",
    "plt.scatter(x, t)\n",
    "plt.scatter(x, t_predicted_b, marker='+', s=500)\n",
    "plt.xlabel('x')\n",
    "plt.ylabel('t')\n",
    "plt.legend(['real', 'prediccion'])\n",
    "plt.title('Visualizacion de datos (batching)')\n",
    "plt.grid(True)\n",
    "plt.show()"
   ]
  }
 ],
 "metadata": {
  "kernelspec": {
   "display_name": "Python 3",
   "language": "python",
   "name": "python3"
  },
  "language_info": {
   "codemirror_mode": {
    "name": "ipython",
    "version": 3
   },
   "file_extension": ".py",
   "mimetype": "text/x-python",
   "name": "python",
   "nbconvert_exporter": "python",
   "pygments_lexer": "ipython3",
   "version": "3.6.6"
  }
 },
 "nbformat": 4,
 "nbformat_minor": 2
}
